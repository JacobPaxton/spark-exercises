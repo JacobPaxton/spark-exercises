{
 "cells": [
  {
   "cell_type": "code",
   "execution_count": 1,
   "id": "b6ae5da5",
   "metadata": {},
   "outputs": [],
   "source": [
    "import pyspark\n",
    "import pandas as pd"
   ]
  },
  {
   "cell_type": "markdown",
   "id": "2b5bfe28",
   "metadata": {},
   "source": [
    "1. Create a spark data frame that contains your favorite programming languages.\n",
    "    * The name of the column should be language\n",
    "    * View the schema of the dataframe\n",
    "    * Output the shape of the dataframe\n",
    "    * Show the first 5 records in the dataframe"
   ]
  },
  {
   "cell_type": "code",
   "execution_count": 2,
   "id": "7bc9e4f0",
   "metadata": {},
   "outputs": [
    {
     "name": "stderr",
     "output_type": "stream",
     "text": [
      "WARNING: An illegal reflective access operation has occurred\n",
      "WARNING: Illegal reflective access by org.apache.spark.unsafe.Platform (file:/opt/homebrew/anaconda3/lib/python3.8/site-packages/pyspark/jars/spark-unsafe_2.12-3.2.0.jar) to constructor java.nio.DirectByteBuffer(long,int)\n",
      "WARNING: Please consider reporting this to the maintainers of org.apache.spark.unsafe.Platform\n",
      "WARNING: Use --illegal-access=warn to enable warnings of further illegal reflective access operations\n",
      "WARNING: All illegal access operations will be denied in a future release\n",
      "Using Spark's default log4j profile: org/apache/spark/log4j-defaults.properties\n",
      "Setting default log level to \"WARN\".\n",
      "To adjust logging level use sc.setLogLevel(newLevel). For SparkR, use setLogLevel(newLevel).\n",
      "21/11/05 15:07:02 WARN NativeCodeLoader: Unable to load native-hadoop library for your platform... using builtin-java classes where applicable\n",
      "                                                                                \r"
     ]
    },
    {
     "name": "stdout",
     "output_type": "stream",
     "text": [
      "+----------+----+\n",
      "|  language|rank|\n",
      "+----------+----+\n",
      "|    Python|   2|\n",
      "|       C++|   1|\n",
      "|JavaScript|   3|\n",
      "+----------+----+\n",
      "\n"
     ]
    }
   ],
   "source": [
    "pd_df = pd.DataFrame({'language':['Python','C++','JavaScript'], \n",
    "                   'rank':[2,1,3]})\n",
    "spark = pyspark.sql.SparkSession.builder.getOrCreate()\n",
    "spark_df = spark.createDataFrame(pd_df)\n",
    "spark_df.show()"
   ]
  },
  {
   "cell_type": "markdown",
   "id": "40a8f747",
   "metadata": {},
   "source": [
    "2. Load the mpg dataset as a spark dataframe.\n",
    "    * Create 1 column of output that contains a message like the one below:\n",
    "    `The 1999 audi a4 has a 4 cylinder engine.`\n",
    "    * For each vehicle.\n",
    "    * Transform the trans column so that it only contains either manual or auto."
   ]
  },
  {
   "cell_type": "code",
   "execution_count": 3,
   "id": "1d40c310",
   "metadata": {},
   "outputs": [
    {
     "name": "stdout",
     "output_type": "stream",
     "text": [
      "+------------+-----+-----+----+---+----------+---+---+---+---+-------+\n",
      "|manufacturer|model|displ|year|cyl|     trans|drv|cty|hwy| fl|  class|\n",
      "+------------+-----+-----+----+---+----------+---+---+---+---+-------+\n",
      "|        audi|   a4|  1.8|1999|  4|  auto(l5)|  f| 18| 29|  p|compact|\n",
      "|        audi|   a4|  1.8|1999|  4|manual(m5)|  f| 21| 29|  p|compact|\n",
      "|        audi|   a4|  2.0|2008|  4|manual(m6)|  f| 20| 31|  p|compact|\n",
      "+------------+-----+-----+----+---+----------+---+---+---+---+-------+\n",
      "only showing top 3 rows\n",
      "\n"
     ]
    }
   ],
   "source": [
    "# create spark dataframe\n",
    "from pydataset import data\n",
    "mpg = spark.createDataFrame(data('mpg'))\n",
    "mpg.show(3)"
   ]
  },
  {
   "cell_type": "code",
   "execution_count": 4,
   "id": "126c103d",
   "metadata": {},
   "outputs": [
    {
     "data": {
      "text/plain": [
       "[Row(statement='The 1999 audi a4 has a 4 cylinder engine.'),\n",
       " Row(statement='The 1999 audi a4 has a 4 cylinder engine.'),\n",
       " Row(statement='The 2008 audi a4 has a 4 cylinder engine.'),\n",
       " Row(statement='The 2008 audi a4 has a 4 cylinder engine.'),\n",
       " Row(statement='The 1999 audi a4 has a 6 cylinder engine.')]"
      ]
     },
     "execution_count": 4,
     "metadata": {},
     "output_type": "execute_result"
    }
   ],
   "source": [
    "# create column with the intended statement\n",
    "from pyspark.sql.functions import concat, lit\n",
    "mpg.select(concat(lit('The '), \n",
    "                  lit(mpg.year), \n",
    "                  lit(' '), \n",
    "                  lit(mpg.manufacturer),\n",
    "                  lit(' '),\n",
    "                  lit(mpg.model),\n",
    "                  lit(' has a '),\n",
    "                  lit(mpg.cyl),\n",
    "                  lit(' cylinder engine.')\n",
    ").alias('statement')).head(5)"
   ]
  },
  {
   "cell_type": "markdown",
   "id": "356211c3",
   "metadata": {},
   "source": [
    "3. Load the tips dataset as a spark dataframe.\n",
    "    * What percentage of observations are smokers?\n",
    "    * Create a column that contains the tip percentage\n",
    "    * Calculate the average tip percentage for each combination of sex and smoker."
   ]
  },
  {
   "cell_type": "code",
   "execution_count": 5,
   "id": "c34ce602",
   "metadata": {},
   "outputs": [
    {
     "data": {
      "text/plain": [
       "[Row(total_bill=16.99, tip=1.01, sex='Female', smoker='No', day='Sun', time='Dinner', size=2),\n",
       " Row(total_bill=10.34, tip=1.66, sex='Male', smoker='No', day='Sun', time='Dinner', size=3),\n",
       " Row(total_bill=21.01, tip=3.5, sex='Male', smoker='No', day='Sun', time='Dinner', size=3)]"
      ]
     },
     "execution_count": 5,
     "metadata": {},
     "output_type": "execute_result"
    }
   ],
   "source": [
    "tips = spark.createDataFrame(data('tips'))\n",
    "tips.head(3)"
   ]
  },
  {
   "cell_type": "code",
   "execution_count": 6,
   "id": "b0a98590",
   "metadata": {},
   "outputs": [
    {
     "name": "stdout",
     "output_type": "stream",
     "text": [
      "+-------------------+\n",
      "|    percent_smokers|\n",
      "+-------------------+\n",
      "|0.38114754098360654|\n",
      "+-------------------+\n",
      "\n",
      "None\n",
      "+----------+----+------+------+---+------+----+-------------------+\n",
      "|total_bill| tip|   sex|smoker|day|  time|size|     tip_percentage|\n",
      "+----------+----+------+------+---+------+----+-------------------+\n",
      "|     16.99|1.01|Female|    No|Sun|Dinner|   2|0.05944673337257211|\n",
      "|     10.34|1.66|  Male|    No|Sun|Dinner|   3|0.16054158607350097|\n",
      "|     21.01| 3.5|  Male|    No|Sun|Dinner|   3|0.16658733936220846|\n",
      "|     23.68|3.31|  Male|    No|Sun|Dinner|   2| 0.1397804054054054|\n",
      "|     24.59|3.61|Female|    No|Sun|Dinner|   4|0.14680764538430255|\n",
      "|     25.29|4.71|  Male|    No|Sun|Dinner|   4|0.18623962040332148|\n",
      "|      8.77| 2.0|  Male|    No|Sun|Dinner|   2|0.22805017103762829|\n",
      "|     26.88|3.12|  Male|    No|Sun|Dinner|   4|0.11607142857142858|\n",
      "|     15.04|1.96|  Male|    No|Sun|Dinner|   2|0.13031914893617022|\n",
      "|     14.78|3.23|  Male|    No|Sun|Dinner|   2| 0.2185385656292287|\n",
      "|     10.27|1.71|  Male|    No|Sun|Dinner|   2| 0.1665043816942551|\n",
      "|     35.26| 5.0|Female|    No|Sun|Dinner|   4|0.14180374361883155|\n",
      "|     15.42|1.57|  Male|    No|Sun|Dinner|   2|0.10181582360570687|\n",
      "|     18.43| 3.0|  Male|    No|Sun|Dinner|   4|0.16277807921866522|\n",
      "|     14.83|3.02|Female|    No|Sun|Dinner|   2|0.20364126770060686|\n",
      "|     21.58|3.92|  Male|    No|Sun|Dinner|   2|0.18164967562557924|\n",
      "|     10.33|1.67|Female|    No|Sun|Dinner|   3| 0.1616650532429816|\n",
      "|     16.29|3.71|  Male|    No|Sun|Dinner|   3|0.22774708410067526|\n",
      "|     16.97| 3.5|Female|    No|Sun|Dinner|   3|0.20624631703005306|\n",
      "|     20.65|3.35|  Male|    No|Sat|Dinner|   3|0.16222760290556903|\n",
      "+----------+----+------+------+---+------+----+-------------------+\n",
      "only showing top 20 rows\n",
      "\n"
     ]
    }
   ],
   "source": [
    "# % who are smokers\n",
    "from pyspark.sql.functions import mean, when\n",
    "percent_smoking = tips.select(mean(when(tips.smoker == 'Yes', 1)\\\n",
    "                                   .otherwise(0))\\\n",
    "                              .alias('percent_smokers'))\n",
    "print(percent_smoking.show())\n",
    "# tip percentage\n",
    "tips = tips.select('*', (tips.tip / tips.total_bill).alias('tip_percentage'))\n",
    "tips.show()\n"
   ]
  },
  {
   "cell_type": "code",
   "execution_count": 7,
   "id": "b31f006b",
   "metadata": {},
   "outputs": [
    {
     "name": "stderr",
     "output_type": "stream",
     "text": [
      "[Stage 16:>                                                         (0 + 8) / 8]\r"
     ]
    },
    {
     "name": "stdout",
     "output_type": "stream",
     "text": [
      "+------+------------------+-------------------+\n",
      "|   sex|                No|                Yes|\n",
      "+------+------------------+-------------------+\n",
      "|Female|0.1569209707691836|0.18215035269941032|\n",
      "|  Male|0.1606687151291298|0.15277117520248512|\n",
      "+------+------------------+-------------------+\n",
      "\n"
     ]
    },
    {
     "name": "stderr",
     "output_type": "stream",
     "text": [
      "\r",
      "                                                                                \r"
     ]
    }
   ],
   "source": [
    "# averate tip percentage per each combo of sex/smoker\n",
    "from pyspark.sql.functions import col\n",
    "tips.groupBy('sex').pivot('smoker').agg(mean(col('tip_percentage'))).show()"
   ]
  },
  {
   "cell_type": "markdown",
   "id": "624fb84c",
   "metadata": {},
   "source": [
    "4. Use the seattle weather dataset referenced in the lesson to answer the questions below.\n",
    "    * Convert the temperatures to fahrenheit.\n",
    "    * Which month has the most rain, on average?\n",
    "    * Which year was the windiest?\n",
    "    * What is the most frequent type of weather in January?\n",
    "    * What is the average high and low temperature on sunny days in July in 2013 and 2014?\n",
    "    * What percentage of days were rainy in q3 of 2015?\n",
    "    * For each year, find what percentage of days it rained (had non-zero precipitation)."
   ]
  },
  {
   "cell_type": "code",
   "execution_count": 8,
   "id": "15a84d8e",
   "metadata": {},
   "outputs": [
    {
     "name": "stdout",
     "output_type": "stream",
     "text": [
      "+----------+-------------+--------+--------+----+-------+\n",
      "|      date|precipitation|temp_max|temp_min|wind|weather|\n",
      "+----------+-------------+--------+--------+----+-------+\n",
      "|2012-01-01|          0.0|    12.8|     5.0| 4.7|drizzle|\n",
      "|2012-01-02|         10.9|    10.6|     2.8| 4.5|   rain|\n",
      "|2012-01-03|          0.8|    11.7|     7.2| 2.3|   rain|\n",
      "+----------+-------------+--------+--------+----+-------+\n",
      "only showing top 3 rows\n",
      "\n"
     ]
    }
   ],
   "source": [
    "from vega_datasets import data\n",
    "\n",
    "weather = data.seattle_weather().assign(date=lambda df: df.date.astype(str))\n",
    "weather = spark.createDataFrame(weather)\n",
    "weather.show(3)"
   ]
  },
  {
   "cell_type": "code",
   "execution_count": 9,
   "id": "a189dd2d",
   "metadata": {},
   "outputs": [
    {
     "name": "stdout",
     "output_type": "stream",
     "text": [
      "+--------+------------------+--------+----------+\n",
      "|temp_max|        f_temp_max|temp_min|f_temp_min|\n",
      "+--------+------------------+--------+----------+\n",
      "|    12.8|55.040000000000006|     5.0|      41.0|\n",
      "|    10.6|             51.08|     2.8|     37.04|\n",
      "|    11.7|             53.06|     7.2|     44.96|\n",
      "+--------+------------------+--------+----------+\n",
      "only showing top 3 rows\n",
      "\n"
     ]
    }
   ],
   "source": [
    "# convert temps to F\n",
    "def c_to_f(temp):\n",
    "    return (temp * (9/5)) + 32\n",
    "\n",
    "weather.select('temp_max', \n",
    "               c_to_f(weather.temp_max).alias('f_temp_max'),\n",
    "               'temp_min',\n",
    "               c_to_f(weather.temp_min).alias('f_temp_min')\n",
    "              ).show(3)"
   ]
  },
  {
   "cell_type": "code",
   "execution_count": 10,
   "id": "1011e526",
   "metadata": {},
   "outputs": [
    {
     "name": "stderr",
     "output_type": "stream",
     "text": [
      "\r",
      "[Stage 24:>                                                         (0 + 8) / 8]\r",
      "\r",
      "[Stage 24:==============>                                           (2 + 6) / 8]\r"
     ]
    },
    {
     "name": "stdout",
     "output_type": "stream",
     "text": [
      "+-----+-----------------+\n",
      "|month| average_rainfall|\n",
      "+-----+-----------------+\n",
      "|   11|5.354166666666667|\n",
      "+-----+-----------------+\n",
      "only showing top 1 row\n",
      "\n"
     ]
    },
    {
     "name": "stderr",
     "output_type": "stream",
     "text": [
      "\r",
      "                                                                                \r"
     ]
    }
   ],
   "source": [
    "# most rainy month\n",
    "from pyspark.sql.functions import month, mean\n",
    "weather.withColumn(\"month\", month(\"date\"))\\\n",
    "    .groupBy(\"month\")\\\n",
    "    .agg(mean(weather.precipitation).alias(\"average_rainfall\"))\\\n",
    "    .sort(col('average_rainfall').desc())\\\n",
    "    .show(1)"
   ]
  },
  {
   "cell_type": "code",
   "execution_count": 11,
   "id": "a23a1d2f",
   "metadata": {},
   "outputs": [
    {
     "name": "stdout",
     "output_type": "stream",
     "text": [
      "+----+-----------------+\n",
      "|year|     average_wind|\n",
      "+----+-----------------+\n",
      "|2012|3.400819672131148|\n",
      "+----+-----------------+\n",
      "only showing top 1 row\n",
      "\n"
     ]
    }
   ],
   "source": [
    "# windiest year\n",
    "from pyspark.sql.functions import year\n",
    "weather.withColumn(\"year\", year(\"date\"))\\\n",
    "    .groupBy(\"year\")\\\n",
    "    .agg(mean(weather.wind).alias(\"average_wind\"))\\\n",
    "    .sort(col('average_wind').desc())\\\n",
    "    .show(1)"
   ]
  },
  {
   "cell_type": "code",
   "execution_count": 12,
   "id": "ffc2c423",
   "metadata": {},
   "outputs": [
    {
     "name": "stderr",
     "output_type": "stream",
     "text": [
      "\r",
      "[Stage 30:>                                                         (0 + 8) / 8]\r"
     ]
    },
    {
     "name": "stdout",
     "output_type": "stream",
     "text": [
      "+-------+-----+\n",
      "|weather|count|\n",
      "+-------+-----+\n",
      "|    fog|   38|\n",
      "+-------+-----+\n",
      "only showing top 1 row\n",
      "\n"
     ]
    },
    {
     "name": "stderr",
     "output_type": "stream",
     "text": [
      "\r",
      "                                                                                \r"
     ]
    }
   ],
   "source": [
    "# most frequent weather type in january\n",
    "from pyspark.sql.functions import count\n",
    "weather.where(month('date') == '1')\\\n",
    "       .groupBy('weather')\\\n",
    "       .agg(count('weather').alias('count'))\\\n",
    "       .sort(col('count').desc())\\\n",
    ".show(1)"
   ]
  },
  {
   "cell_type": "code",
   "execution_count": 13,
   "id": "da17cb97",
   "metadata": {},
   "outputs": [
    {
     "name": "stdout",
     "output_type": "stream",
     "text": [
      "+------------------+-----------------+\n",
      "|      average_high|      average_low|\n",
      "+------------------+-----------------+\n",
      "|16.439082819986314|8.234770704996578|\n",
      "+------------------+-----------------+\n",
      "\n"
     ]
    }
   ],
   "source": [
    "# What is the average high and low temperature on sunny days in July in 2013 and 2014?\n",
    "from pyspark.sql.functions import max, min, mean\n",
    "weird_one = weather.where(((year('date') == '2013') | (year('date') == '2014')))\n",
    "weird_one = weather.where(month('date') == '7')\n",
    "weird_one = weather.where(weather.weather == 'sun')\n",
    "weird_one = weather.select(mean(weather.temp_max).alias('average_high'),\n",
    "                    mean(weather.temp_min).alias('average_low'))\n",
    "weird_one.show()"
   ]
  },
  {
   "cell_type": "code",
   "execution_count": 14,
   "id": "8a082dc0",
   "metadata": {},
   "outputs": [
    {
     "name": "stdout",
     "output_type": "stream",
     "text": [
      "+----------+\n",
      "|rainy_days|\n",
      "+----------+\n",
      "|        92|\n",
      "+----------+\n",
      "\n"
     ]
    }
   ],
   "source": [
    "# What percentage of days were rainy in q3 of 2015?\n",
    "q3 = (month('date') == '7') | (month('date') == '8') | (month('date') == '9')\n",
    "weather.where((year('date') == '2015') & q3)\\\n",
    "        .select(count(col('weather') == 'rainy').alias('rainy_days')).show()"
   ]
  },
  {
   "cell_type": "code",
   "execution_count": 15,
   "id": "2ee5e4da",
   "metadata": {},
   "outputs": [
    {
     "name": "stdout",
     "output_type": "stream",
     "text": [
      "+----+----------+--------------+-------------------+\n",
      "|year|rainy_days|number_of_days|     percent_rained|\n",
      "+----+----------+--------------+-------------------+\n",
      "|2012|       177|           366|0.48360655737704916|\n",
      "|2013|       152|           365|0.41643835616438357|\n",
      "|2014|       150|           365|  0.410958904109589|\n",
      "|2015|       144|           365|0.39452054794520547|\n",
      "+----+----------+--------------+-------------------+\n",
      "\n"
     ]
    }
   ],
   "source": [
    "# For each year, find what percentage of days it rained (had non-zero precipitation).\n",
    "from pyspark.sql.functions import sum\n",
    "weather.withColumn('year', year('date'))\\\n",
    "       .withColumn('rained', when(col('precipitation') > 0, 1).otherwise(0))\\\n",
    "       .groupBy(col('year'))\\\n",
    "       .agg(sum('rained').alias('rainy_days'), \n",
    "            count('precipitation').alias('number_of_days'))\\\n",
    "       .withColumn('percent_rained', col('rainy_days') / col('number_of_days'))\\\n",
    ".show()"
   ]
  },
  {
   "cell_type": "code",
   "execution_count": null,
   "id": "9274e2b7",
   "metadata": {},
   "outputs": [],
   "source": []
  }
 ],
 "metadata": {
  "kernelspec": {
   "display_name": "Python 3 (ipykernel)",
   "language": "python",
   "name": "python3"
  },
  "language_info": {
   "codemirror_mode": {
    "name": "ipython",
    "version": 3
   },
   "file_extension": ".py",
   "mimetype": "text/x-python",
   "name": "python",
   "nbconvert_exporter": "python",
   "pygments_lexer": "ipython3",
   "version": "3.8.8"
  }
 },
 "nbformat": 4,
 "nbformat_minor": 5
}
