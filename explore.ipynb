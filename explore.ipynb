{
 "cells": [
  {
   "cell_type": "code",
   "execution_count": 1,
   "id": "97ad9f85",
   "metadata": {},
   "outputs": [
    {
     "name": "stderr",
     "output_type": "stream",
     "text": [
      "WARNING: An illegal reflective access operation has occurred\n",
      "WARNING: Illegal reflective access by org.apache.spark.unsafe.Platform (file:/opt/homebrew/anaconda3/lib/python3.8/site-packages/pyspark/jars/spark-unsafe_2.12-3.2.0.jar) to constructor java.nio.DirectByteBuffer(long,int)\n",
      "WARNING: Please consider reporting this to the maintainers of org.apache.spark.unsafe.Platform\n",
      "WARNING: Use --illegal-access=warn to enable warnings of further illegal reflective access operations\n",
      "WARNING: All illegal access operations will be denied in a future release\n",
      "Using Spark's default log4j profile: org/apache/spark/log4j-defaults.properties\n",
      "Setting default log level to \"WARN\".\n",
      "To adjust logging level use sc.setLogLevel(newLevel). For SparkR, use setLogLevel(newLevel).\n",
      "21/11/09 15:44:30 WARN NativeCodeLoader: Unable to load native-hadoop library for your platform... using builtin-java classes where applicable\n"
     ]
    },
    {
     "name": "stdout",
     "output_type": "stream",
     "text": [
      "[wrangle.py] reading case.csv\n"
     ]
    },
    {
     "name": "stderr",
     "output_type": "stream",
     "text": [
      "                                                                                \r"
     ]
    },
    {
     "name": "stdout",
     "output_type": "stream",
     "text": [
      "[wrangle.py] handling data types\n",
      "[wrangle.py] parsing dates\n",
      "[wrangle.py] adding features\n"
     ]
    },
    {
     "name": "stderr",
     "output_type": "stream",
     "text": [
      "                                                                                \r"
     ]
    },
    {
     "name": "stdout",
     "output_type": "stream",
     "text": [
      "[wrangle.py] joining departments\n"
     ]
    },
    {
     "name": "stderr",
     "output_type": "stream",
     "text": [
      "                                                                                \r"
     ]
    },
    {
     "name": "stdout",
     "output_type": "stream",
     "text": [
      "\n",
      "df shape: (841704, 20)\n",
      "\n",
      "-RECORD 0------------------------------------\n",
      " case_id              | 1014127332           \n",
      " case_opened_date     | 2018-01-01 00:42:00  \n",
      " case_closed_date     | 2018-01-01 12:29:00  \n",
      " case_due_date        | 2020-09-26 00:42:00  \n",
      " case_late            | false                \n",
      " num_days_late        | -998.5087616000001   \n",
      " case_closed          | true                 \n",
      " service_request_type | Stray Animal         \n",
      " SLA_days             | 999.0                \n",
      " case_status          | Closed               \n",
      " source_id            | svcCRMLS             \n",
      " request_address      | 2315  EL PASO ST,... \n",
      " council_district     | 005                  \n",
      " num_weeks_late       | -142.6441088         \n",
      " zipcode              | 78207                \n",
      " case_age             | 219                  \n",
      " days_to_closed       | 0                    \n",
      " case_lifetime        | 0                    \n",
      " department           | Animal Care Services \n",
      " dept_subject_to_SLA  | true                 \n",
      "only showing top 1 row\n",
      "\n"
     ]
    }
   ],
   "source": [
    "import warnings\n",
    "warnings.filterwarnings('ignore')\n",
    "\n",
    "import pyspark.sql\n",
    "from pyspark.sql.functions import *\n",
    "\n",
    "import numpy as np\n",
    "import pandas as pd\n",
    "\n",
    "import matplotlib.pyplot as plt\n",
    "import seaborn as sns\n",
    "\n",
    "from wrangle import wrangle_311\n",
    "\n",
    "spark = pyspark.sql.SparkSession.builder.getOrCreate()\n",
    "\n",
    "df = wrangle_311(spark)\n",
    "print(\"\\ndf shape: (%d, %d)\\n\" % (df.count(), len(df.columns)))\n",
    "df.show(1, vertical=True)"
   ]
  },
  {
   "cell_type": "markdown",
   "id": "4fee6785",
   "metadata": {},
   "source": [
    "Answer the questions below by using a combination of the techniques discussed in the lesson that you think is appropriate.\n",
    "\n",
    "1. How many different cases are there, by department?"
   ]
  },
  {
   "cell_type": "code",
   "execution_count": 2,
   "id": "83df7ae9",
   "metadata": {},
   "outputs": [
    {
     "name": "stderr",
     "output_type": "stream",
     "text": [
      "[Stage 14:===========================================>              (6 + 2) / 8]\r"
     ]
    },
    {
     "name": "stdout",
     "output_type": "stream",
     "text": [
      "+--------------------+------+\n",
      "|          department| count|\n",
      "+--------------------+------+\n",
      "|         Solid Waste|279270|\n",
      "|Animal Care Services|116915|\n",
      "|Trans & Cap Impro...| 96193|\n",
      "|  Parks & Recreation| 19907|\n",
      "|    Customer Service|  2849|\n",
      "|        Metro Health|  5163|\n",
      "|        City Council|    33|\n",
      "|DSD/Code Enforcement|321374|\n",
      "+--------------------+------+\n",
      "\n"
     ]
    },
    {
     "name": "stderr",
     "output_type": "stream",
     "text": [
      "\r",
      "                                                                                \r"
     ]
    }
   ],
   "source": [
    "df.groupby('department').count().show()"
   ]
  },
  {
   "cell_type": "markdown",
   "id": "366ad623",
   "metadata": {},
   "source": [
    "2. Does the percentage of cases that are late vary by department?"
   ]
  },
  {
   "cell_type": "code",
   "execution_count": 3,
   "id": "e33927da",
   "metadata": {},
   "outputs": [
    {
     "name": "stderr",
     "output_type": "stream",
     "text": [
      "[Stage 22:>                                                         (0 + 8) / 8]\r"
     ]
    },
    {
     "name": "stdout",
     "output_type": "stream",
     "text": [
      "+--------------------+---------+-----+--------------------+\n",
      "|          department|case_late|count|          percentage|\n",
      "+--------------------+---------+-----+--------------------+\n",
      "|    Customer Service|     true| 2010|0.002388012888141199|\n",
      "|Trans & Cap Impro...|     true| 5411|0.006428625740165189|\n",
      "|        Metro Health|     true|  829|9.849068080940568E-4|\n",
      "|Animal Care Services|     true|23276| 0.02765342685789779|\n",
      "|  Parks & Recreation|     true| 3797| 0.00451108703297121|\n",
      "|         Solid Waste|     true|32945| 0.03914083810935911|\n",
      "|DSD/Code Enforcement|     true|26235|0.031168914487753413|\n",
      "+--------------------+---------+-----+--------------------+\n",
      "\n"
     ]
    },
    {
     "name": "stderr",
     "output_type": "stream",
     "text": [
      "\r",
      "                                                                                \r"
     ]
    }
   ],
   "source": [
    "nrows = df.count()\n",
    "(\n",
    "    df.groupby(['department', 'case_late'])\n",
    "    .count()\n",
    "    .withColumn('percentage', col('count') / nrows)\n",
    "    .filter(df.case_late == 'true')\n",
    "    .show()\n",
    ")"
   ]
  },
  {
   "cell_type": "markdown",
   "id": "423b3ac0",
   "metadata": {},
   "source": [
    "3. On average, how late are the late cases by department?\n",
    "\n",
    "4. What is the service type that is the most late? Just for Parks & Rec?"
   ]
  },
  {
   "cell_type": "code",
   "execution_count": 4,
   "id": "930c38e9",
   "metadata": {},
   "outputs": [
    {
     "name": "stderr",
     "output_type": "stream",
     "text": [
      "\r",
      "[Stage 26:>                                                         (0 + 8) / 8]\r"
     ]
    },
    {
     "name": "stdout",
     "output_type": "stream",
     "text": [
      "+--------------------+------------------+\n",
      "|          department|      average_late|\n",
      "+--------------------+------------------+\n",
      "|         Solid Waste| 7.186821906120899|\n",
      "|Animal Care Services|23.458633245820124|\n",
      "|Trans & Cap Impro...|10.603064680316946|\n",
      "|  Parks & Recreation|22.348910457867518|\n",
      "|    Customer Service| 87.68385942150394|\n",
      "|        Metro Health|6.5438133155476494|\n",
      "|DSD/Code Enforcement| 49.38428705358908|\n",
      "+--------------------+------------------+\n",
      "\n"
     ]
    },
    {
     "name": "stderr",
     "output_type": "stream",
     "text": [
      "\r",
      "                                                                                \r"
     ]
    }
   ],
   "source": [
    "df.filter(df.case_late == 'true').groupby('department').agg(mean(df.num_days_late).alias('average_late')).show()"
   ]
  },
  {
   "cell_type": "markdown",
   "id": "2a30aca9",
   "metadata": {},
   "source": [
    "5. For the DSD/Code Enforcement department, what are the most common service request types? Look at other departments too."
   ]
  },
  {
   "cell_type": "code",
   "execution_count": 5,
   "id": "b6f3934c",
   "metadata": {},
   "outputs": [
    {
     "name": "stderr",
     "output_type": "stream",
     "text": [
      "\r",
      "[Stage 30:>                                                         (0 + 8) / 8]\r"
     ]
    },
    {
     "name": "stdout",
     "output_type": "stream",
     "text": [
      "+--------------------+-----+\n",
      "|service_request_type|count|\n",
      "+--------------------+-----+\n",
      "|Overgrown Yard/Trash|65895|\n",
      "|        Bandit Signs|32910|\n",
      "|Front Or Side Yar...|28794|\n",
      "|Junk Vehicle On P...|21473|\n",
      "|Alley-Way Mainten...|20214|\n",
      "|Right Of Way/Side...|17699|\n",
      "|Vacant Lot/Overgr...| 9329|\n",
      "|Minimum Housing-O...| 8543|\n",
      "|Graffiti: Private...| 8525|\n",
      "|Dang. Premises/CL...| 8004|\n",
      "|Minimum Housing-T...| 7984|\n",
      "|\"Vacant Lot-Priva...| 7875|\n",
      "|    Brush Violations| 7475|\n",
      "|    Permits Building| 6880|\n",
      "|Vacant House Over...| 6109|\n",
      "|  Graffiti: Building| 4572|\n",
      "|Graffiti Public P...| 4104|\n",
      "|Low Hanging Limbs...| 4052|\n",
      "|CPS Energy Wood P...| 3501|\n",
      "|Zoning Business i...| 2716|\n",
      "+--------------------+-----+\n",
      "only showing top 20 rows\n",
      "\n"
     ]
    },
    {
     "name": "stderr",
     "output_type": "stream",
     "text": [
      "\r",
      "                                                                                \r"
     ]
    }
   ],
   "source": [
    "(\n",
    "    df.filter(df.department == 'DSD/Code Enforcement')\n",
    "    .groupby('service_request_type')\n",
    "    .count()\n",
    "    .sort(col('count').desc())\n",
    "    .show()\n",
    ")"
   ]
  },
  {
   "cell_type": "markdown",
   "id": "3e4ac78b",
   "metadata": {},
   "source": [
    "6. Does whether or not its a weekend matter for when a case is opened/closed?"
   ]
  },
  {
   "cell_type": "code",
   "execution_count": 6,
   "id": "683d56c6",
   "metadata": {},
   "outputs": [],
   "source": [
    "fmt = \"M/d/yy\"\n",
    "\n",
    "open_close = (\n",
    "    df.select('case_opened_date', 'case_closed_date')\n",
    "    .withColumn('open_date', to_date('case_opened_date'))\n",
    "    .withColumn('close_date', to_date('case_closed_date'))\n",
    "    .drop('case_opened_date').drop('case_closed_date')\n",
    ")\n",
    "\n",
    "opened_weekend_count = (\n",
    "    open_close.withColumn(\"opened_weekend\", \n",
    "                          date_format(\"open_date\", 'EEE')\n",
    "                          .isin([\"Sat\", \"Sun\"]))\n",
    "    .groupby('opened_weekend')\n",
    "    .count()\n",
    ")\n",
    "\n",
    "closed_weekend_count = (\n",
    "    \n",
    "    open_close.withColumn(\"closed_weekend\", \n",
    "                          date_format(\"close_date\", 'EEE')\n",
    "                          .isin([\"Sat\", \"Sun\"]))\n",
    "    .groupby('closed_weekend')\n",
    "    .count()\n",
    ")"
   ]
  },
  {
   "cell_type": "code",
   "execution_count": 7,
   "id": "625231c3",
   "metadata": {},
   "outputs": [
    {
     "name": "stderr",
     "output_type": "stream",
     "text": [
      "[Stage 34:=======>                                                  (1 + 7) / 8]\r"
     ]
    },
    {
     "name": "stdout",
     "output_type": "stream",
     "text": [
      "+--------------+------+\n",
      "|opened_weekend| count|\n",
      "+--------------+------+\n",
      "|          true| 82443|\n",
      "|         false|759261|\n",
      "+--------------+------+\n",
      "\n"
     ]
    },
    {
     "name": "stderr",
     "output_type": "stream",
     "text": [
      "\r",
      "                                                                                \r"
     ]
    }
   ],
   "source": [
    "opened_weekend_count.show()"
   ]
  },
  {
   "cell_type": "code",
   "execution_count": 8,
   "id": "3bf19c11",
   "metadata": {},
   "outputs": [
    {
     "name": "stderr",
     "output_type": "stream",
     "text": [
      "\r",
      "[Stage 38:>                                                         (0 + 8) / 8]\r"
     ]
    },
    {
     "name": "stdout",
     "output_type": "stream",
     "text": [
      "+--------------+------+\n",
      "|closed_weekend| count|\n",
      "+--------------+------+\n",
      "|          true| 88027|\n",
      "|         false|735567|\n",
      "|          null| 18110|\n",
      "+--------------+------+\n",
      "\n"
     ]
    },
    {
     "name": "stderr",
     "output_type": "stream",
     "text": [
      "\r",
      "                                                                                \r"
     ]
    }
   ],
   "source": [
    "closed_weekend_count.show()"
   ]
  },
  {
   "cell_type": "markdown",
   "id": "98747811",
   "metadata": {},
   "source": [
    "7. On average, how many cases are opened a day for the Customer Service department?"
   ]
  },
  {
   "cell_type": "code",
   "execution_count": 9,
   "id": "b39ac0bd",
   "metadata": {},
   "outputs": [
    {
     "name": "stderr",
     "output_type": "stream",
     "text": [
      "\r",
      "[Stage 42:>                                                         (0 + 8) / 8]\r"
     ]
    },
    {
     "name": "stdout",
     "output_type": "stream",
     "text": [
      "+-----------+\n",
      "| avg(count)|\n",
      "+-----------+\n",
      "|5.564453125|\n",
      "+-----------+\n",
      "\n"
     ]
    },
    {
     "name": "stderr",
     "output_type": "stream",
     "text": [
      "\r",
      "                                                                                \r"
     ]
    }
   ],
   "source": [
    "(\n",
    "    df.filter(df.department == 'Customer Service')\n",
    "    .withColumn('open_date', to_date('case_opened_date'))\n",
    "    .groupby(['department', 'open_date'])\n",
    "    .count()\n",
    "    .agg({'count':'mean'})\n",
    "    .show()\n",
    ")"
   ]
  },
  {
   "cell_type": "markdown",
   "id": "24e24331",
   "metadata": {},
   "source": [
    "8. Does the number of service requests for the solid waste department vary by day of the week?"
   ]
  },
  {
   "cell_type": "code",
   "execution_count": 10,
   "id": "4b55157b",
   "metadata": {},
   "outputs": [
    {
     "name": "stderr",
     "output_type": "stream",
     "text": [
      "\r",
      "[Stage 49:>                                                         (0 + 8) / 8]\r"
     ]
    },
    {
     "name": "stdout",
     "output_type": "stream",
     "text": [
      "+-----------+-------+-----+\n",
      "| department|weekday|count|\n",
      "+-----------+-------+-----+\n",
      "|Solid Waste|    Wed|41947|\n",
      "|Solid Waste|    Thu|47718|\n",
      "|Solid Waste|    Sun| 6885|\n",
      "|Solid Waste|    Mon|58085|\n",
      "|Solid Waste|    Sat|15312|\n",
      "|Solid Waste|    Fri|51203|\n",
      "|Solid Waste|    Tue|58120|\n",
      "+-----------+-------+-----+\n",
      "\n"
     ]
    },
    {
     "name": "stderr",
     "output_type": "stream",
     "text": [
      "\r",
      "                                                                                \r"
     ]
    }
   ],
   "source": [
    "(\n",
    "    df.filter(df.department == 'Solid Waste')\n",
    "    .withColumn('weekday', date_format(\"case_opened_date\", 'EEE'))\n",
    "    .groupby(['department', 'weekday'])\n",
    "    .count()\n",
    "    .show()\n",
    ")"
   ]
  },
  {
   "cell_type": "code",
   "execution_count": null,
   "id": "b17a5ae5",
   "metadata": {},
   "outputs": [],
   "source": []
  }
 ],
 "metadata": {
  "kernelspec": {
   "display_name": "Python 3 (ipykernel)",
   "language": "python",
   "name": "python3"
  },
  "language_info": {
   "codemirror_mode": {
    "name": "ipython",
    "version": 3
   },
   "file_extension": ".py",
   "mimetype": "text/x-python",
   "name": "python",
   "nbconvert_exporter": "python",
   "pygments_lexer": "ipython3",
   "version": "3.8.8"
  }
 },
 "nbformat": 4,
 "nbformat_minor": 5
}
